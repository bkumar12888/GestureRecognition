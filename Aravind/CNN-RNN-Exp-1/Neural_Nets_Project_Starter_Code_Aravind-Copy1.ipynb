{
 "cells": [
  {
   "cell_type": "markdown",
   "metadata": {},
   "source": [
    "# Gesture Recognition\n",
    "In this group project, you are going to build a 3D Conv model that will be able to predict the 5 gestures correctly. Please import the following libraries to get started."
   ]
  },
  {
   "cell_type": "code",
   "execution_count": null,
   "metadata": {},
   "outputs": [],
   "source": [
    "!apt update\n",
    "!apt install -y libsm6 libxext6\n",
    "!apt install -y libxrender1 libxtst6 libxi6\n",
    "!pip install opencv-python keras"
   ]
  },
  {
   "cell_type": "code",
   "execution_count": 1,
   "metadata": {},
   "outputs": [],
   "source": [
    "import numpy as np\n",
    "import os\n",
    "from scipy.misc import imread, imresize\n",
    "import datetime\n",
    "import os\n",
    "import cv2"
   ]
  },
  {
   "cell_type": "markdown",
   "metadata": {},
   "source": [
    "We set the random seed so that the results don't vary drastically."
   ]
  },
  {
   "cell_type": "code",
   "execution_count": 2,
   "metadata": {},
   "outputs": [
    {
     "name": "stderr",
     "output_type": "stream",
     "text": [
      "/usr/local/lib/python3.5/dist-packages/h5py/__init__.py:36: FutureWarning: Conversion of the second argument of issubdtype from `float` to `np.floating` is deprecated. In future, it will be treated as `np.float64 == np.dtype(float).type`.\n",
      "  from ._conv import register_converters as _register_converters\n",
      "Using TensorFlow backend.\n"
     ]
    }
   ],
   "source": [
    "np.random.seed(30)\n",
    "import random as rn\n",
    "rn.seed(30)\n",
    "from keras import backend as K\n",
    "import tensorflow as tf\n",
    "tf.set_random_seed(30)"
   ]
  },
  {
   "cell_type": "markdown",
   "metadata": {},
   "source": [
    "In this block, you read the folder names for training and validation. You also set the `batch_size` here. Note that you set the batch size in such a way that you are able to use the GPU in full capacity. You keep increasing the batch size until the machine throws an error."
   ]
  },
  {
   "cell_type": "code",
   "execution_count": 3,
   "metadata": {},
   "outputs": [],
   "source": [
    "#train_doc = np.random.permutation(open('/notebooks/storage/Final_data/Collated_training/train.csv').readlines())\n",
    "train_doc = np.random.permutation(open('../Project_data/train.csv').readlines())\n",
    "#val_doc = np.random.permutation(open('/notebooks/storage/Final_data/Collated_training/val.csv').readlines())\n",
    "val_doc = np.random.permutation(open('../Project_data/val.csv').readlines())\n",
    "batch_size = 32 #experiment with the batch size"
   ]
  },
  {
   "cell_type": "markdown",
   "metadata": {},
   "source": [
    "## Generator\n",
    "This is one of the most important part of the code. The overall structure of the generator has been given. In the generator, you are going to preprocess the images as you have images of 2 different dimensions as well as create a batch of video frames. You have to experiment with `img_idx`, `y`,`z` and normalization such that you get high accuracy."
   ]
  },
  {
   "cell_type": "code",
   "execution_count": 4,
   "metadata": {},
   "outputs": [],
   "source": [
    "def generator(source_path, folder_list, batch_size):\n",
    "    print( 'Source path = ', source_path, '; batch size =', batch_size)\n",
    "    img_idx = [0,1,2,6,10,14,16,20,24,27,28,29]\n",
    "#create a list of image numbers you want to use for a particular video\n",
    "    while True:\n",
    "        t = np.random.permutation(folder_list)\n",
    "        num_batches = int(len(folder_list)/batch_size)\n",
    "        # calculate the number of batches\n",
    "        for batch in range(num_batches): # we iterate over the number of batches\n",
    "            x=len(img_idx)\n",
    "            #batch_data = np.zeros((batch_size,x,y,z,3)) # x is the number of images you use for each video, (y,z) is the final size of the input images and 3 is the number of channels RGB\n",
    "            batch_data = np.zeros((batch_size,x,100,100,3))\n",
    "            batch_labels = np.zeros((batch_size,5)) # batch_labels is the one hot representation of the output\n",
    "            for folder in range(batch_size): # iterate over the batch_size\n",
    "                imgs = os.listdir(source_path+'/'+ t[folder + (batch*batch_size)].split(';')[0]) # read all the images in the folder\n",
    "                for idx,item in enumerate(img_idx): #  Iterate iver the frames/images of a folder to read them in\n",
    "                    image = imread(source_path+'/'+ t[folder + (batch*batch_size)].strip().split(';')[0]+'/'+imgs[item]).astype(np.float32)\n",
    "                     \n",
    "                    #cropping an image if size height or width is 120* 160\n",
    "                    height, width , channel = image.shape\n",
    "                    if height == 120 or width == 120:\n",
    "                        image=image[20:140,:120,:]\n",
    "                    #crop the images and resize them. Note that the images are of 2 different shape                     \n",
    "                    #and the conv3D will throw error if the inputs in a batch have different shapes\n",
    "                    #resizing all iamge to 100*100\n",
    "                    image = cv2.resize(image,(100,100))\n",
    "                    image = image/255\n",
    "                    batch_data[folder,idx,:,:,0] = image[:,:,0]\n",
    "                    #normalise and feed in the image\n",
    "                    batch_data[folder,idx,:,:,1] = image[:,:,1]\n",
    "                    #normalise and feed in the image\n",
    "                    batch_data[folder,idx,:,:,2] = image[:,:,2]\n",
    "                    #normalise and feed in the image\n",
    "                \n",
    "                batch_labels[folder, int(t[folder + (batch*batch_size)].strip().split(';')[2])] = 1\n",
    "            yield batch_data, batch_labels #you yield the batch_data and the batch_labels, remember what does yield do\n",
    "        \n",
    "        # write the code for the remaining data points which are left after full batches\n",
    "        if len(folder_list) > num_batches * batch_size:\n",
    "            x=len(img_idx)\n",
    "            remaining_data_size = len(folder_list) - (num_batches * batch_size)\n",
    "            batch_data = np.zeros((remaining_data_size,x,100,100,3))\n",
    "            batch_labels = np.zeros((remaining_data_size,5)) # batch_labels is the one hot representation of the output\n",
    "            for folder in range(remaining_data_size): # iterate over the batch_size\n",
    "                imgs = os.listdir(source_path+'/'+ t[folder + (num_batches * batch_size)].split(';')[0]) # read all the images in the folder\n",
    "                for idx,item in enumerate(img_idx): #  Iterate iver the frames/images of a folder to read them in\n",
    "                    image = imread(source_path+'/'+ t[folder + (num_batches * batch_size)].strip().split(';')[0]+'/'+imgs[item]).astype(np.float32)\n",
    "                     \n",
    "                    #cropping an image if size height or width is 120* 160\n",
    "                    height, width , channel = image.shape\n",
    "                    if height == 120 or width == 120:\n",
    "                        image=image[20:140,:120,:]\n",
    "                    #crop the images and resize them. Note that the images are of 2 different shape                     \n",
    "                    #and the conv3D will throw error if the inputs in a batch have different shapes\n",
    "                    #resizing all iamge to 100*100\n",
    "                    image = cv2.resize(image,(100,100))\n",
    "                    image = image/255\n",
    "                    batch_data[folder,idx,:,:,0] = image[:,:,0]\n",
    "                    #normalise and feed in the image\n",
    "                    batch_data[folder,idx,:,:,1] = image[:,:,1]\n",
    "                    #normalise and feed in the image\n",
    "                    batch_data[folder,idx,:,:,2] = image[:,:,2]\n",
    "                    #normalise and feed in the image\n",
    "                \n",
    "                batch_labels[folder, int(t[folder + (num_batches * batch_size)].strip().split(';')[2])] = 1\n",
    "            yield batch_data, batch_labels #you yield the batch_data and the batch_labels, remember what does yield do            \n"
   ]
  },
  {
   "cell_type": "markdown",
   "metadata": {},
   "source": [
    "Note here that a video is represented above in the generator as (number of images, height, width, number of channels). Take this into consideration while creating the model architecture."
   ]
  },
  {
   "cell_type": "code",
   "execution_count": 6,
   "metadata": {},
   "outputs": [
    {
     "name": "stdout",
     "output_type": "stream",
     "text": [
      "# training sequences = 663\n",
      "# validation sequences = 100\n",
      "# epochs = 75\n"
     ]
    }
   ],
   "source": [
    "curr_dt_time = datetime.datetime.now()\n",
    "# train_path = '/notebooks/storage/Final_data/Collated_training/train'\n",
    "# val_path = '/notebooks/storage/Final_data/Collated_training/val'\n",
    "train_path = '../Project_data/train'\n",
    "val_path = '../Project_data/val'\n",
    "num_train_sequences = len(train_doc)\n",
    "print('# training sequences =', num_train_sequences)\n",
    "num_val_sequences = len(val_doc)\n",
    "print('# validation sequences =', num_val_sequences)\n",
    "num_epochs = 75 # choose the number of epochs\n",
    "print ('# epochs =', num_epochs)"
   ]
  },
  {
   "cell_type": "markdown",
   "metadata": {},
   "source": [
    "## Model\n",
    "Here you make the model using different functionalities that Keras provides. Remember to use `Conv3D` and `MaxPooling3D` and not `Conv2D` and `Maxpooling2D` for a 3D convolution model. You would want to use `TimeDistributed` while building a Conv2D + RNN model. Also remember that the last layer is the softmax. Design the network in such a way that the model is able to give good accuracy on the least number of parameters so that it can fit in the memory of the webcam."
   ]
  },
  {
   "cell_type": "code",
   "execution_count": 7,
   "metadata": {},
   "outputs": [],
   "source": [
    "from keras.models import Sequential, Model\n",
    "from keras.layers import Dense, GRU, Flatten, TimeDistributed, Flatten, BatchNormalization, Activation, Dropout\n",
    "from keras.layers.convolutional import Conv2D, MaxPooling2D\n",
    "from keras.callbacks import ModelCheckpoint, ReduceLROnPlateau\n",
    "from keras import optimizers\n",
    "#Our import\n",
    "from keras.regularizers import l2\n",
    "\n",
    "#write your model here\n",
    "cnn = Sequential()\n",
    "cnn.add(Conv2D(32, (3, 3), padding='same', input_shape=(100,100,3)))\n",
    "cnn.add(BatchNormalization())\n",
    "cnn.add(Activation('relu')) #can use elu as well\n",
    "cnn.add(MaxPooling2D(pool_size=(2,2)))\n",
    "\n",
    "cnn.add(Conv2D(64, (3, 3), padding='same', input_shape=(100,100,3)))\n",
    "cnn.add(BatchNormalization())\n",
    "cnn.add(Activation('relu')) #can use elu as well\n",
    "cnn.add(MaxPooling2D(pool_size=(2,2)))\n",
    "\n",
    "cnn.add(Conv2D(128, (3, 3), padding='same', input_shape=(100,100,3)))\n",
    "cnn.add(BatchNormalization())\n",
    "cnn.add(Activation('relu')) #can use elu as well\n",
    "cnn.add(MaxPooling2D(pool_size=(2,2)))\n",
    "\n",
    "cnn.add(Conv2D(128, (3, 3), padding='same', input_shape=(100,100,3)))\n",
    "cnn.add(BatchNormalization())\n",
    "cnn.add(Activation('relu')) #can use elu as well\n",
    "cnn.add(MaxPooling2D(pool_size=(2,2)))\n",
    "cnn.add(Dropout(0.25))\n",
    "\n",
    "cnn.add(Conv2D(128, (3, 3), padding='same', input_shape=(100,100,3)))\n",
    "cnn.add(BatchNormalization())\n",
    "cnn.add(Activation('relu')) #can use elu as well\n",
    "cnn.add(MaxPooling2D(pool_size=(2,2)))\n",
    "cnn.add(Dropout(0.25))\n",
    "\n",
    "\n",
    "#model.add(LSTM(100,return_sequences=True))\n",
    "cnn.add(Flatten())\n",
    "cnn.add(Dense(256, activation='relu'))\n",
    "cnn.add(Dropout(0.5))\n",
    "cnn.add(Dense(256, activation='relu'))\n",
    "model = Sequential()\n",
    "model.add(TimeDistributed(cnn, input_shape=(12, 100, 100,3)))\n",
    "model.add(GRU(12))\n",
    "model.add(Dropout(.2)) #added\n",
    "model.add(Dense(5, activation='softmax'))"
   ]
  },
  {
   "cell_type": "markdown",
   "metadata": {},
   "source": [
    "Now that you have written the model, the next step is to `compile` the model. When you print the `summary` of the model, you'll see the total number of parameters you have to train."
   ]
  },
  {
   "cell_type": "code",
   "execution_count": 8,
   "metadata": {
    "scrolled": true
   },
   "outputs": [
    {
     "name": "stdout",
     "output_type": "stream",
     "text": [
      "_________________________________________________________________\n",
      "Layer (type)                 Output Shape              Param #   \n",
      "=================================================================\n",
      "time_distributed_1 (TimeDist (None, 12, 256)           751296    \n",
      "_________________________________________________________________\n",
      "gru_1 (GRU)                  (None, 12)                9684      \n",
      "_________________________________________________________________\n",
      "dropout_4 (Dropout)          (None, 12)                0         \n",
      "_________________________________________________________________\n",
      "dense_3 (Dense)              (None, 5)                 65        \n",
      "=================================================================\n",
      "Total params: 761,045\n",
      "Trainable params: 760,085\n",
      "Non-trainable params: 960\n",
      "_________________________________________________________________\n",
      "None\n"
     ]
    }
   ],
   "source": [
    "optimiser = 'SGD' #write your optimizer #can try new ones like ADAMS or NADAMS (for future)\n",
    "model.compile(optimizer=optimiser, loss='categorical_crossentropy', metrics=['categorical_accuracy'])\n",
    "print (model.summary())"
   ]
  },
  {
   "cell_type": "markdown",
   "metadata": {},
   "source": [
    "Let us create the `train_generator` and the `val_generator` which will be used in `.fit_generator`."
   ]
  },
  {
   "cell_type": "code",
   "execution_count": 9,
   "metadata": {},
   "outputs": [],
   "source": [
    "train_generator = generator(train_path, train_doc, batch_size)\n",
    "val_generator = generator(val_path, val_doc, batch_size)"
   ]
  },
  {
   "cell_type": "code",
   "execution_count": 10,
   "metadata": {},
   "outputs": [],
   "source": [
    "model_name = 'model_init' + '_' + str(curr_dt_time).replace(' ','').replace(':','_') + '/'\n",
    "    \n",
    "if not os.path.exists(model_name):\n",
    "    os.mkdir(model_name)\n",
    "        \n",
    "filepath = model_name + 'model-{epoch:05d}-{loss:.5f}-{categorical_accuracy:.5f}-{val_loss:.5f}-{val_categorical_accuracy:.5f}.h5'\n",
    "\n",
    "checkpoint = ModelCheckpoint(filepath, monitor='val_loss', verbose=1, save_best_only=False, save_weights_only=False, mode='auto', period=1)\n",
    "\n",
    "LR = ReduceLROnPlateau(monitor='val_loss', factor=0.2, patience=10, min_lr=0.0001) # write the REducelronplateau code here\n",
    "#try different patience level\n",
    "callbacks_list = [checkpoint, LR]"
   ]
  },
  {
   "cell_type": "markdown",
   "metadata": {},
   "source": [
    "The `steps_per_epoch` and `validation_steps` are used by `fit_generator` to decide the number of next() calls it need to make."
   ]
  },
  {
   "cell_type": "code",
   "execution_count": 11,
   "metadata": {},
   "outputs": [],
   "source": [
    "if (num_train_sequences%batch_size) == 0:\n",
    "    steps_per_epoch = int(num_train_sequences/batch_size)\n",
    "else:\n",
    "    steps_per_epoch = (num_train_sequences//batch_size) + 1\n",
    "\n",
    "if (num_val_sequences%batch_size) == 0:\n",
    "    validation_steps = int(num_val_sequences/batch_size)\n",
    "else:\n",
    "    validation_steps = (num_val_sequences//batch_size) + 1"
   ]
  },
  {
   "cell_type": "markdown",
   "metadata": {},
   "source": [
    "Let us now fit the model. This will start training the model and with the help of the checkpoints, you'll be able to save the model at the end of each epoch."
   ]
  },
  {
   "cell_type": "code",
   "execution_count": 12,
   "metadata": {},
   "outputs": [
    {
     "name": "stdout",
     "output_type": "stream",
     "text": [
      "Epoch 1/75\n",
      "Source path =  ../Project_data/val ; batch size = 32\n",
      "Source path =  ../Project_data/train ; batch size = 32\n"
     ]
    },
    {
     "name": "stderr",
     "output_type": "stream",
     "text": [
      "/usr/local/lib/python3.5/dist-packages/ipykernel_launcher.py:17: DeprecationWarning: `imread` is deprecated!\n",
      "`imread` is deprecated in SciPy 1.0.0, and will be removed in 1.2.0.\n",
      "Use ``imageio.imread`` instead.\n"
     ]
    },
    {
     "name": "stdout",
     "output_type": "stream",
     "text": [
      " 3/21 [===>..........................] - ETA: 34s - loss: 1.9138 - categorical_accuracy: 0.1667"
     ]
    },
    {
     "name": "stderr",
     "output_type": "stream",
     "text": [
      "/usr/local/lib/python3.5/dist-packages/ipykernel_launcher.py:47: DeprecationWarning: `imread` is deprecated!\n",
      "`imread` is deprecated in SciPy 1.0.0, and will be removed in 1.2.0.\n",
      "Use ``imageio.imread`` instead.\n"
     ]
    },
    {
     "name": "stdout",
     "output_type": "stream",
     "text": [
      "21/21 [==============================] - 31s 1s/step - loss: 1.7127 - categorical_accuracy: 0.2386 - val_loss: 1.6336 - val_categorical_accuracy: 0.2600\n",
      "\n",
      "Epoch 00001: saving model to model_init_2018-12-3003_00_44.272109/model-00001-1.71444-0.23831-1.63364-0.26000.h5\n",
      "Epoch 2/75\n",
      "21/21 [==============================] - 25s 1s/step - loss: 1.5416 - categorical_accuracy: 0.3162 - val_loss: 1.5141 - val_categorical_accuracy: 0.3200\n",
      "\n",
      "Epoch 00002: saving model to model_init_2018-12-3003_00_44.272109/model-00002-1.54226-0.31523-1.51409-0.32000.h5\n",
      "Epoch 3/75\n",
      "21/21 [==============================] - 26s 1s/step - loss: 1.4425 - categorical_accuracy: 0.3549 - val_loss: 1.4499 - val_categorical_accuracy: 0.3600\n",
      "\n",
      "Epoch 00003: saving model to model_init_2018-12-3003_00_44.272109/model-00003-1.44409-0.35445-1.44989-0.36000.h5\n",
      "Epoch 4/75\n",
      "21/21 [==============================] - 27s 1s/step - loss: 1.3293 - categorical_accuracy: 0.4415 - val_loss: 1.4004 - val_categorical_accuracy: 0.4000\n",
      "\n",
      "Epoch 00004: saving model to model_init_2018-12-3003_00_44.272109/model-00004-1.33024-0.44042-1.40042-0.40000.h5\n",
      "Epoch 5/75\n",
      "21/21 [==============================] - 25s 1s/step - loss: 1.2864 - categorical_accuracy: 0.4854 - val_loss: 1.3596 - val_categorical_accuracy: 0.4400\n",
      "\n",
      "Epoch 00005: saving model to model_init_2018-12-3003_00_44.272109/model-00005-1.28232-0.48718-1.35960-0.44000.h5\n",
      "Epoch 6/75\n",
      "21/21 [==============================] - 26s 1s/step - loss: 1.2011 - categorical_accuracy: 0.5196 - val_loss: 1.2335 - val_categorical_accuracy: 0.5400\n",
      "\n",
      "Epoch 00006: saving model to model_init_2018-12-3003_00_44.272109/model-00006-1.20428-0.51735-1.23349-0.54000.h5\n",
      "Epoch 7/75\n",
      "21/21 [==============================] - 27s 1s/step - loss: 1.1776 - categorical_accuracy: 0.5347 - val_loss: 1.1040 - val_categorical_accuracy: 0.5800\n",
      "\n",
      "Epoch 00007: saving model to model_init_2018-12-3003_00_44.272109/model-00007-1.17708-0.53544-1.10403-0.58000.h5\n",
      "Epoch 8/75\n",
      "21/21 [==============================] - 25s 1s/step - loss: 1.0776 - categorical_accuracy: 0.5840 - val_loss: 1.2832 - val_categorical_accuracy: 0.5300\n",
      "\n",
      "Epoch 00008: saving model to model_init_2018-12-3003_00_44.272109/model-00008-1.07631-0.58371-1.28318-0.53000.h5\n",
      "Epoch 9/75\n",
      "21/21 [==============================] - 27s 1s/step - loss: 1.1019 - categorical_accuracy: 0.5891 - val_loss: 1.1496 - val_categorical_accuracy: 0.6000\n",
      "\n",
      "Epoch 00009: saving model to model_init_2018-12-3003_00_44.272109/model-00009-1.10325-0.58824-1.14959-0.60000.h5\n",
      "Epoch 10/75\n",
      "21/21 [==============================] - 27s 1s/step - loss: 1.0137 - categorical_accuracy: 0.6246 - val_loss: 0.9369 - val_categorical_accuracy: 0.6700\n",
      "\n",
      "Epoch 00010: saving model to model_init_2018-12-3003_00_44.272109/model-00010-1.01327-0.62594-0.93688-0.67000.h5\n",
      "Epoch 11/75\n",
      "21/21 [==============================] - 25s 1s/step - loss: 0.9614 - categorical_accuracy: 0.6575 - val_loss: 0.9880 - val_categorical_accuracy: 0.6500\n",
      "\n",
      "Epoch 00011: saving model to model_init_2018-12-3003_00_44.272109/model-00011-0.96139-0.65762-0.98804-0.65000.h5\n",
      "Epoch 12/75\n",
      "21/21 [==============================] - 27s 1s/step - loss: 0.9856 - categorical_accuracy: 0.6440 - val_loss: 0.9924 - val_categorical_accuracy: 0.6600\n",
      "\n",
      "Epoch 00012: saving model to model_init_2018-12-3003_00_44.272109/model-00012-0.98486-0.64555-0.99242-0.66000.h5\n",
      "Epoch 13/75\n",
      "21/21 [==============================] - 27s 1s/step - loss: 0.8911 - categorical_accuracy: 0.6778 - val_loss: 0.9000 - val_categorical_accuracy: 0.6700\n",
      "\n",
      "Epoch 00013: saving model to model_init_2018-12-3003_00_44.272109/model-00013-0.89135-0.67873-0.90001-0.67000.h5\n",
      "Epoch 14/75\n",
      "21/21 [==============================] - 26s 1s/step - loss: 0.8927 - categorical_accuracy: 0.6840 - val_loss: 1.1341 - val_categorical_accuracy: 0.5200\n",
      "\n",
      "Epoch 00014: saving model to model_init_2018-12-3003_00_44.272109/model-00014-0.89328-0.68326-1.13409-0.52000.h5\n",
      "Epoch 15/75\n",
      "21/21 [==============================] - 27s 1s/step - loss: 0.8403 - categorical_accuracy: 0.7058 - val_loss: 0.8883 - val_categorical_accuracy: 0.6600\n",
      "\n",
      "Epoch 00015: saving model to model_init_2018-12-3003_00_44.272109/model-00015-0.84176-0.70588-0.88828-0.66000.h5\n",
      "Epoch 16/75\n",
      "21/21 [==============================] - 26s 1s/step - loss: 0.8080 - categorical_accuracy: 0.7257 - val_loss: 0.8358 - val_categorical_accuracy: 0.6300\n",
      "\n",
      "Epoch 00016: saving model to model_init_2018-12-3003_00_44.272109/model-00016-0.80896-0.72549-0.83577-0.63000.h5\n",
      "Epoch 17/75\n",
      "21/21 [==============================] - 26s 1s/step - loss: 0.7810 - categorical_accuracy: 0.7359 - val_loss: 1.0614 - val_categorical_accuracy: 0.5700\n",
      "\n",
      "Epoch 00017: saving model to model_init_2018-12-3003_00_44.272109/model-00017-0.77714-0.73756-1.06144-0.57000.h5\n",
      "Epoch 18/75\n",
      "21/21 [==============================] - 27s 1s/step - loss: 0.7801 - categorical_accuracy: 0.7372 - val_loss: 1.1220 - val_categorical_accuracy: 0.6000\n",
      "\n",
      "Epoch 00018: saving model to model_init_2018-12-3003_00_44.272109/model-00018-0.78188-0.73605-1.12199-0.60000.h5\n",
      "Epoch 19/75\n",
      "21/21 [==============================] - 27s 1s/step - loss: 0.7380 - categorical_accuracy: 0.7510 - val_loss: 1.1325 - val_categorical_accuracy: 0.5800\n",
      "\n",
      "Epoch 00019: saving model to model_init_2018-12-3003_00_44.272109/model-00019-0.73747-0.75113-1.13253-0.58000.h5\n",
      "Epoch 20/75\n",
      "21/21 [==============================] - 26s 1s/step - loss: 0.7061 - categorical_accuracy: 0.7664 - val_loss: 0.9688 - val_categorical_accuracy: 0.6600\n",
      "\n",
      "Epoch 00020: saving model to model_init_2018-12-3003_00_44.272109/model-00020-0.70637-0.76621-0.96882-0.66000.h5\n",
      "Epoch 21/75\n",
      "21/21 [==============================] - 26s 1s/step - loss: 0.6900 - categorical_accuracy: 0.7729 - val_loss: 1.0870 - val_categorical_accuracy: 0.6100\n",
      "\n",
      "Epoch 00021: saving model to model_init_2018-12-3003_00_44.272109/model-00021-0.69113-0.77225-1.08698-0.61000.h5\n",
      "Epoch 22/75\n",
      "21/21 [==============================] - 25s 1s/step - loss: 0.6678 - categorical_accuracy: 0.7928 - val_loss: 1.1019 - val_categorical_accuracy: 0.5800\n",
      "\n",
      "Epoch 00022: saving model to model_init_2018-12-3003_00_44.272109/model-00022-0.67008-0.79186-1.10188-0.58000.h5\n",
      "Epoch 23/75\n",
      "21/21 [==============================] - 24s 1s/step - loss: 0.6373 - categorical_accuracy: 0.7908 - val_loss: 0.7300 - val_categorical_accuracy: 0.7400\n",
      "\n",
      "Epoch 00023: saving model to model_init_2018-12-3003_00_44.272109/model-00023-0.63763-0.79035-0.72997-0.74000.h5\n",
      "Epoch 24/75\n",
      "21/21 [==============================] - 24s 1s/step - loss: 0.5949 - categorical_accuracy: 0.8165 - val_loss: 1.3173 - val_categorical_accuracy: 0.5000\n",
      "\n",
      "Epoch 00024: saving model to model_init_2018-12-3003_00_44.272109/model-00024-0.59384-0.81750-1.31727-0.50000.h5\n",
      "Epoch 25/75\n",
      "21/21 [==============================] - 24s 1s/step - loss: 0.5684 - categorical_accuracy: 0.8143 - val_loss: 1.0505 - val_categorical_accuracy: 0.6200\n",
      "\n",
      "Epoch 00025: saving model to model_init_2018-12-3003_00_44.272109/model-00025-0.57006-0.81297-1.05055-0.62000.h5\n",
      "Epoch 26/75\n",
      "21/21 [==============================] - 24s 1s/step - loss: 0.5607 - categorical_accuracy: 0.8236 - val_loss: 0.8829 - val_categorical_accuracy: 0.6700\n",
      "\n",
      "Epoch 00026: saving model to model_init_2018-12-3003_00_44.272109/model-00026-0.56104-0.82353-0.88286-0.67000.h5\n",
      "Epoch 27/75\n",
      "21/21 [==============================] - 24s 1s/step - loss: 0.5265 - categorical_accuracy: 0.8305 - val_loss: 0.7815 - val_categorical_accuracy: 0.7100\n",
      "\n",
      "Epoch 00027: saving model to model_init_2018-12-3003_00_44.272109/model-00027-0.52557-0.83107-0.78153-0.71000.h5\n",
      "Epoch 28/75\n",
      "21/21 [==============================] - 25s 1s/step - loss: 0.5254 - categorical_accuracy: 0.8386 - val_loss: 0.9690 - val_categorical_accuracy: 0.6200\n",
      "\n",
      "Epoch 00028: saving model to model_init_2018-12-3003_00_44.272109/model-00028-0.52650-0.83710-0.96896-0.62000.h5\n",
      "Epoch 29/75\n",
      "21/21 [==============================] - 24s 1s/step - loss: 0.4802 - categorical_accuracy: 0.8619 - val_loss: 1.3000 - val_categorical_accuracy: 0.5300\n",
      "\n",
      "Epoch 00029: saving model to model_init_2018-12-3003_00_44.272109/model-00029-0.48260-0.86124-1.30004-0.53000.h5\n",
      "Epoch 30/75\n",
      "21/21 [==============================] - 24s 1s/step - loss: 0.4931 - categorical_accuracy: 0.8468 - val_loss: 0.7753 - val_categorical_accuracy: 0.7100\n"
     ]
    },
    {
     "name": "stdout",
     "output_type": "stream",
     "text": [
      "\n",
      "Epoch 00030: saving model to model_init_2018-12-3003_00_44.272109/model-00030-0.49268-0.84766-0.77528-0.71000.h5\n",
      "Epoch 31/75\n",
      "21/21 [==============================] - 24s 1s/step - loss: 0.4656 - categorical_accuracy: 0.8682 - val_loss: 1.0524 - val_categorical_accuracy: 0.6000\n",
      "\n",
      "Epoch 00031: saving model to model_init_2018-12-3003_00_44.272109/model-00031-0.46491-0.86878-1.05240-0.60000.h5\n",
      "Epoch 32/75\n",
      "21/21 [==============================] - 24s 1s/step - loss: 0.4747 - categorical_accuracy: 0.8481 - val_loss: 0.7554 - val_categorical_accuracy: 0.7100\n",
      "\n",
      "Epoch 00032: saving model to model_init_2018-12-3003_00_44.272109/model-00032-0.47288-0.85068-0.75543-0.71000.h5\n",
      "Epoch 33/75\n",
      "21/21 [==============================] - 25s 1s/step - loss: 0.4287 - categorical_accuracy: 0.8803 - val_loss: 0.6847 - val_categorical_accuracy: 0.7500\n",
      "\n",
      "Epoch 00033: saving model to model_init_2018-12-3003_00_44.272109/model-00033-0.43089-0.87934-0.68467-0.75000.h5\n",
      "Epoch 34/75\n",
      "21/21 [==============================] - 25s 1s/step - loss: 0.3999 - categorical_accuracy: 0.8816 - val_loss: 1.4815 - val_categorical_accuracy: 0.4800\n",
      "\n",
      "Epoch 00034: saving model to model_init_2018-12-3003_00_44.272109/model-00034-0.39980-0.88235-1.48154-0.48000.h5\n",
      "Epoch 35/75\n",
      "21/21 [==============================] - 26s 1s/step - loss: 0.3785 - categorical_accuracy: 0.8941 - val_loss: 0.9269 - val_categorical_accuracy: 0.6600\n",
      "\n",
      "Epoch 00035: saving model to model_init_2018-12-3003_00_44.272109/model-00035-0.37869-0.89442-0.92690-0.66000.h5\n",
      "Epoch 36/75\n",
      "21/21 [==============================] - 26s 1s/step - loss: 0.3799 - categorical_accuracy: 0.8887 - val_loss: 0.8071 - val_categorical_accuracy: 0.7200\n",
      "\n",
      "Epoch 00036: saving model to model_init_2018-12-3003_00_44.272109/model-00036-0.38027-0.88839-0.80713-0.72000.h5\n",
      "Epoch 37/75\n",
      "21/21 [==============================] - 26s 1s/step - loss: 0.3435 - categorical_accuracy: 0.9226 - val_loss: 0.5810 - val_categorical_accuracy: 0.7800\n",
      "\n",
      "Epoch 00037: saving model to model_init_2018-12-3003_00_44.272109/model-00037-0.34479-0.92157-0.58105-0.78000.h5\n",
      "Epoch 38/75\n",
      "21/21 [==============================] - 27s 1s/step - loss: 0.3286 - categorical_accuracy: 0.9194 - val_loss: 0.7144 - val_categorical_accuracy: 0.7000\n",
      "\n",
      "Epoch 00038: saving model to model_init_2018-12-3003_00_44.272109/model-00038-0.32850-0.92006-0.71435-0.70000.h5\n",
      "Epoch 39/75\n",
      "21/21 [==============================] - 25s 1s/step - loss: 0.3049 - categorical_accuracy: 0.9334 - val_loss: 0.7007 - val_categorical_accuracy: 0.7200\n",
      "\n",
      "Epoch 00039: saving model to model_init_2018-12-3003_00_44.272109/model-00039-0.30304-0.93363-0.70072-0.72000.h5\n",
      "Epoch 40/75\n",
      "21/21 [==============================] - 26s 1s/step - loss: 0.3069 - categorical_accuracy: 0.9339 - val_loss: 1.0544 - val_categorical_accuracy: 0.6500\n",
      "\n",
      "Epoch 00040: saving model to model_init_2018-12-3003_00_44.272109/model-00040-0.30791-0.93363-1.05438-0.65000.h5\n",
      "Epoch 41/75\n",
      "21/21 [==============================] - 26s 1s/step - loss: 0.3227 - categorical_accuracy: 0.9226 - val_loss: 0.6368 - val_categorical_accuracy: 0.7800\n",
      "\n",
      "Epoch 00041: saving model to model_init_2018-12-3003_00_44.272109/model-00041-0.32305-0.92157-0.63680-0.78000.h5\n",
      "Epoch 42/75\n",
      "21/21 [==============================] - 25s 1s/step - loss: 0.2984 - categorical_accuracy: 0.9295 - val_loss: 0.7083 - val_categorical_accuracy: 0.7200\n",
      "\n",
      "Epoch 00042: saving model to model_init_2018-12-3003_00_44.272109/model-00042-0.29857-0.92911-0.70827-0.72000.h5\n",
      "Epoch 43/75\n",
      "21/21 [==============================] - 26s 1s/step - loss: 0.2817 - categorical_accuracy: 0.9324 - val_loss: 0.7900 - val_categorical_accuracy: 0.7200\n",
      "\n",
      "Epoch 00043: saving model to model_init_2018-12-3003_00_44.272109/model-00043-0.28227-0.93213-0.79005-0.72000.h5\n",
      "Epoch 44/75\n",
      "21/21 [==============================] - 26s 1s/step - loss: 0.2901 - categorical_accuracy: 0.9369 - val_loss: 1.0094 - val_categorical_accuracy: 0.6500\n",
      "\n",
      "Epoch 00044: saving model to model_init_2018-12-3003_00_44.272109/model-00044-0.29022-0.93665-1.00942-0.65000.h5\n",
      "Epoch 45/75\n",
      "21/21 [==============================] - 25s 1s/step - loss: 0.2238 - categorical_accuracy: 0.9607 - val_loss: 1.1422 - val_categorical_accuracy: 0.5800\n",
      "\n",
      "Epoch 00045: saving model to model_init_2018-12-3003_00_44.272109/model-00045-0.22421-0.96078-1.14222-0.58000.h5\n",
      "Epoch 46/75\n",
      "21/21 [==============================] - 26s 1s/step - loss: 0.2282 - categorical_accuracy: 0.9468 - val_loss: 0.8766 - val_categorical_accuracy: 0.7100\n",
      "\n",
      "Epoch 00046: saving model to model_init_2018-12-3003_00_44.272109/model-00046-0.22804-0.94721-0.87660-0.71000.h5\n",
      "Epoch 47/75\n",
      "21/21 [==============================] - 25s 1s/step - loss: 0.2515 - categorical_accuracy: 0.9304 - val_loss: 0.9227 - val_categorical_accuracy: 0.7000\n",
      "\n",
      "Epoch 00047: saving model to model_init_2018-12-3003_00_44.272109/model-00047-0.25048-0.93062-0.92268-0.70000.h5\n",
      "Epoch 48/75\n",
      "21/21 [==============================] - 26s 1s/step - loss: 0.2026 - categorical_accuracy: 0.9607 - val_loss: 0.4351 - val_categorical_accuracy: 0.8100\n",
      "\n",
      "Epoch 00048: saving model to model_init_2018-12-3003_00_44.272109/model-00048-0.20282-0.96078-0.43510-0.81000.h5\n",
      "Epoch 49/75\n",
      "21/21 [==============================] - 25s 1s/step - loss: 0.2064 - categorical_accuracy: 0.9581 - val_loss: 0.3954 - val_categorical_accuracy: 0.8600\n",
      "\n",
      "Epoch 00049: saving model to model_init_2018-12-3003_00_44.272109/model-00049-0.20607-0.95928-0.39542-0.86000.h5\n",
      "Epoch 50/75\n",
      "21/21 [==============================] - 25s 1s/step - loss: 0.2008 - categorical_accuracy: 0.9583 - val_loss: 0.4315 - val_categorical_accuracy: 0.8400\n",
      "\n",
      "Epoch 00050: saving model to model_init_2018-12-3003_00_44.272109/model-00050-0.20139-0.95777-0.43148-0.84000.h5\n",
      "Epoch 51/75\n",
      "21/21 [==============================] - 26s 1s/step - loss: 0.2112 - categorical_accuracy: 0.9568 - val_loss: 0.6245 - val_categorical_accuracy: 0.7700\n",
      "\n",
      "Epoch 00051: saving model to model_init_2018-12-3003_00_44.272109/model-00051-0.21189-0.95626-0.62448-0.77000.h5\n",
      "Epoch 52/75\n",
      "21/21 [==============================] - 25s 1s/step - loss: 0.1821 - categorical_accuracy: 0.9592 - val_loss: 0.5352 - val_categorical_accuracy: 0.8100\n",
      "\n",
      "Epoch 00052: saving model to model_init_2018-12-3003_00_44.272109/model-00052-0.18140-0.95928-0.53522-0.81000.h5\n",
      "Epoch 53/75\n",
      "21/21 [==============================] - 26s 1s/step - loss: 0.1677 - categorical_accuracy: 0.9792 - val_loss: 0.4169 - val_categorical_accuracy: 0.8300\n",
      "\n",
      "Epoch 00053: saving model to model_init_2018-12-3003_00_44.272109/model-00053-0.16822-0.97888-0.41693-0.83000.h5\n",
      "Epoch 54/75\n",
      "21/21 [==============================] - 26s 1s/step - loss: 0.1858 - categorical_accuracy: 0.9702 - val_loss: 0.4165 - val_categorical_accuracy: 0.8600\n",
      "\n",
      "Epoch 00054: saving model to model_init_2018-12-3003_00_44.272109/model-00054-0.18602-0.96983-0.41654-0.86000.h5\n",
      "Epoch 55/75\n",
      "21/21 [==============================] - 26s 1s/step - loss: 0.1677 - categorical_accuracy: 0.9806 - val_loss: 0.4352 - val_categorical_accuracy: 0.8300\n",
      "\n",
      "Epoch 00055: saving model to model_init_2018-12-3003_00_44.272109/model-00055-0.16859-0.98039-0.43517-0.83000.h5\n",
      "Epoch 56/75\n",
      "21/21 [==============================] - 26s 1s/step - loss: 0.1753 - categorical_accuracy: 0.9851 - val_loss: 0.3949 - val_categorical_accuracy: 0.8500\n",
      "\n",
      "Epoch 00056: saving model to model_init_2018-12-3003_00_44.272109/model-00056-0.17510-0.98492-0.39494-0.85000.h5\n",
      "Epoch 57/75\n",
      "21/21 [==============================] - 25s 1s/step - loss: 0.1716 - categorical_accuracy: 0.9777 - val_loss: 0.4657 - val_categorical_accuracy: 0.8200\n",
      "\n",
      "Epoch 00057: saving model to model_init_2018-12-3003_00_44.272109/model-00057-0.17165-0.97738-0.46575-0.82000.h5\n",
      "Epoch 58/75\n",
      "21/21 [==============================] - 26s 1s/step - loss: 0.1664 - categorical_accuracy: 0.9756 - val_loss: 0.4094 - val_categorical_accuracy: 0.8300\n",
      "\n",
      "Epoch 00058: saving model to model_init_2018-12-3003_00_44.272109/model-00058-0.16626-0.97587-0.40938-0.83000.h5\n",
      "Epoch 59/75\n",
      "21/21 [==============================] - 26s 1s/step - loss: 0.1614 - categorical_accuracy: 0.9792 - val_loss: 0.4051 - val_categorical_accuracy: 0.8300\n",
      "\n",
      "Epoch 00059: saving model to model_init_2018-12-3003_00_44.272109/model-00059-0.16209-0.97888-0.40510-0.83000.h5\n",
      "Epoch 60/75\n"
     ]
    },
    {
     "name": "stdout",
     "output_type": "stream",
     "text": [
      "21/21 [==============================] - 25s 1s/step - loss: 0.1710 - categorical_accuracy: 0.9780 - val_loss: 0.4172 - val_categorical_accuracy: 0.8100\n",
      "\n",
      "Epoch 00060: saving model to model_init_2018-12-3003_00_44.272109/model-00060-0.16943-0.97888-0.41717-0.81000.h5\n",
      "Epoch 61/75\n",
      "21/21 [==============================] - 26s 1s/step - loss: 0.1655 - categorical_accuracy: 0.9825 - val_loss: 0.3759 - val_categorical_accuracy: 0.8900\n",
      "\n",
      "Epoch 00061: saving model to model_init_2018-12-3003_00_44.272109/model-00061-0.16529-0.98341-0.37591-0.89000.h5\n",
      "Epoch 62/75\n",
      "21/21 [==============================] - 25s 1s/step - loss: 0.1576 - categorical_accuracy: 0.9806 - val_loss: 0.3935 - val_categorical_accuracy: 0.8400\n",
      "\n",
      "Epoch 00062: saving model to model_init_2018-12-3003_00_44.272109/model-00062-0.15770-0.98039-0.39347-0.84000.h5\n",
      "Epoch 63/75\n",
      "21/21 [==============================] - 26s 1s/step - loss: 0.1586 - categorical_accuracy: 0.9881 - val_loss: 0.4163 - val_categorical_accuracy: 0.8500\n",
      "\n",
      "Epoch 00063: saving model to model_init_2018-12-3003_00_44.272109/model-00063-0.15892-0.98793-0.41633-0.85000.h5\n",
      "Epoch 64/75\n",
      "21/21 [==============================] - 25s 1s/step - loss: 0.1702 - categorical_accuracy: 0.9721 - val_loss: 0.4577 - val_categorical_accuracy: 0.8100\n",
      "\n",
      "Epoch 00064: saving model to model_init_2018-12-3003_00_44.272109/model-00064-0.16883-0.97285-0.45770-0.81000.h5\n",
      "Epoch 65/75\n",
      "21/21 [==============================] - 25s 1s/step - loss: 0.1541 - categorical_accuracy: 0.9801 - val_loss: 0.4052 - val_categorical_accuracy: 0.8400\n",
      "\n",
      "Epoch 00065: saving model to model_init_2018-12-3003_00_44.272109/model-00065-0.15398-0.98039-0.40518-0.84000.h5\n",
      "Epoch 66/75\n",
      "21/21 [==============================] - 25s 1s/step - loss: 0.1699 - categorical_accuracy: 0.9747 - val_loss: 0.4267 - val_categorical_accuracy: 0.8000\n",
      "\n",
      "Epoch 00066: saving model to model_init_2018-12-3003_00_44.272109/model-00066-0.16998-0.97436-0.42666-0.80000.h5\n",
      "Epoch 67/75\n",
      "21/21 [==============================] - 25s 1s/step - loss: 0.1661 - categorical_accuracy: 0.9866 - val_loss: 0.3868 - val_categorical_accuracy: 0.8000\n",
      "\n",
      "Epoch 00067: saving model to model_init_2018-12-3003_00_44.272109/model-00067-0.16608-0.98643-0.38676-0.80000.h5\n",
      "Epoch 68/75\n",
      "21/21 [==============================] - 23s 1s/step - loss: 0.1520 - categorical_accuracy: 0.9905 - val_loss: 0.4624 - val_categorical_accuracy: 0.7900\n",
      "\n",
      "Epoch 00068: saving model to model_init_2018-12-3003_00_44.272109/model-00068-0.15193-0.99095-0.46239-0.79000.h5\n",
      "Epoch 69/75\n",
      "21/21 [==============================] - 23s 1s/step - loss: 0.1674 - categorical_accuracy: 0.9771 - val_loss: 0.4832 - val_categorical_accuracy: 0.8100\n",
      "\n",
      "Epoch 00069: saving model to model_init_2018-12-3003_00_44.272109/model-00069-0.16683-0.97738-0.48325-0.81000.h5\n",
      "Epoch 70/75\n",
      "21/21 [==============================] - 23s 1s/step - loss: 0.1608 - categorical_accuracy: 0.9762 - val_loss: 0.4349 - val_categorical_accuracy: 0.8200\n",
      "\n",
      "Epoch 00070: saving model to model_init_2018-12-3003_00_44.272109/model-00070-0.16070-0.97587-0.43493-0.82000.h5\n",
      "Epoch 71/75\n",
      "21/21 [==============================] - 23s 1s/step - loss: 0.1514 - categorical_accuracy: 0.9866 - val_loss: 0.4628 - val_categorical_accuracy: 0.8300\n",
      "\n",
      "Epoch 00071: saving model to model_init_2018-12-3003_00_44.272109/model-00071-0.15120-0.98643-0.46279-0.83000.h5\n",
      "Epoch 72/75\n",
      "21/21 [==============================] - 23s 1s/step - loss: 0.1403 - categorical_accuracy: 0.9890 - val_loss: 0.3881 - val_categorical_accuracy: 0.8400\n",
      "\n",
      "Epoch 00072: saving model to model_init_2018-12-3003_00_44.272109/model-00072-0.14023-0.98944-0.38812-0.84000.h5\n",
      "Epoch 73/75\n",
      "21/21 [==============================] - 24s 1s/step - loss: 0.1634 - categorical_accuracy: 0.9816 - val_loss: 0.3910 - val_categorical_accuracy: 0.8400\n",
      "\n",
      "Epoch 00073: saving model to model_init_2018-12-3003_00_44.272109/model-00073-0.16287-0.98190-0.39098-0.84000.h5\n",
      "Epoch 74/75\n",
      "21/21 [==============================] - 23s 1s/step - loss: 0.1442 - categorical_accuracy: 0.9914 - val_loss: 0.3936 - val_categorical_accuracy: 0.8400\n",
      "\n",
      "Epoch 00074: saving model to model_init_2018-12-3003_00_44.272109/model-00074-0.14299-0.99246-0.39357-0.84000.h5\n",
      "Epoch 75/75\n",
      "21/21 [==============================] - 23s 1s/step - loss: 0.1401 - categorical_accuracy: 0.9860 - val_loss: 0.3990 - val_categorical_accuracy: 0.8400\n",
      "\n",
      "Epoch 00075: saving model to model_init_2018-12-3003_00_44.272109/model-00075-0.13943-0.98643-0.39903-0.84000.h5\n"
     ]
    },
    {
     "data": {
      "text/plain": [
       "<keras.callbacks.History at 0x7f3edc1033c8>"
      ]
     },
     "execution_count": 12,
     "metadata": {},
     "output_type": "execute_result"
    }
   ],
   "source": [
    "model.fit_generator(train_generator, steps_per_epoch=steps_per_epoch, epochs=num_epochs, verbose=1, \n",
    "                    callbacks=callbacks_list, validation_data=val_generator, \n",
    "                    validation_steps=validation_steps, class_weight=None, workers=1, initial_epoch=0)\n",
    "#Epoch 61/75\n",
    "#21/21 [==============================] - 26s 1s/step - loss: 0.1655 - categorical_accuracy: 0.9825 - val_loss: 0.3759 - val_categorical_accuracy: 0.8900\n",
    "\n",
    "#Epoch 00061: saving model to model_init_2018-12-3003_00_44.272109/model-00061-0.16529-0.98341-0.37591-0.89000.h5\n",
    "\n",
    "#model.fit_generator(train_generator, steps_per_epoch=steps_per_epoch, epochs=num_epochs, verbose=1, \n",
    "#                    validation_data=val_generator, \n",
    "#                    validation_steps=validation_steps, class_weight=None, workers=1, initial_epoch=0)"
   ]
  },
  {
   "cell_type": "code",
   "execution_count": null,
   "metadata": {},
   "outputs": [],
   "source": []
  }
 ],
 "metadata": {
  "kernelspec": {
   "display_name": "Python 3",
   "language": "python",
   "name": "python3"
  },
  "language_info": {
   "codemirror_mode": {
    "name": "ipython",
    "version": 3
   },
   "file_extension": ".py",
   "mimetype": "text/x-python",
   "name": "python",
   "nbconvert_exporter": "python",
   "pygments_lexer": "ipython3",
   "version": "3.5.2"
  }
 },
 "nbformat": 4,
 "nbformat_minor": 2
}
